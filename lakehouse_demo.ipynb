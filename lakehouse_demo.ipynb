{
 "cells": [
  {
   "cell_type": "markdown",
   "id": "1fea692c-e1fd-4324-9ab4-9099ddfcb30a",
   "metadata": {},
   "source": [
    "This demo presents an example of ML model training that leverages GCP lakehouse architecture features such as open data format, access level security, data change tracking and versioning."
   ]
  },
  {
   "cell_type": "code",
   "execution_count": 1,
   "id": "0cbead37-e576-4b42-81b6-d0039e62a666",
   "metadata": {},
   "outputs": [],
   "source": [
    "import numpy as np\n",
    "from google.cloud import bigquery"
   ]
  },
  {
   "cell_type": "code",
   "execution_count": 2,
   "id": "1a61c74d-27e5-43e0-81e2-ff8aef938528",
   "metadata": {},
   "outputs": [],
   "source": [
    "# creating a bigquery client \n",
    "client = bigquery.Client()"
   ]
  },
  {
   "cell_type": "code",
   "execution_count": null,
   "id": "d6ebbd7a-009d-40bf-aa47-6f9b0e5a3d8b",
   "metadata": {},
   "outputs": [],
   "source": [
    "BUCKET = \"your GCS bucket\"\n",
    "BQ_DATASET = \"your BQ dataset\""
   ]
  },
  {
   "cell_type": "markdown",
   "id": "7c02f325-14a2-4dd1-837c-5c1fa55161c8",
   "metadata": {},
   "source": [
    "## 1. Data Sources\n",
    "For this demo we have used Austin housing price dataset from Kaggle (https://www.kaggle.com/datasets/ericpierce/austinhousingprices). "
   ]
  },
  {
   "cell_type": "markdown",
   "id": "ecb61c3f-e84f-47cf-8b9d-a9cd365e0613",
   "metadata": {},
   "source": [
    "### External dataset in BQ from image data"
   ]
  },
  {
   "cell_type": "code",
   "execution_count": 3,
   "id": "2a8b9249-162c-4f48-9cee-4cd339954b5a",
   "metadata": {},
   "outputs": [
    {
     "data": {
      "text/plain": [
       "QueryJob<project=safshari-sandbox, location=US, id=8f59784d-6ce6-4106-92ec-61662da80d24>"
      ]
     },
     "execution_count": 3,
     "metadata": {},
     "output_type": "execute_result"
    }
   ],
   "source": [
    "query = f\"\"\"\n",
    "    CREATE EXTERNAL TABLE {BQ_DATASET}.housing_image\n",
    "    WITH CONNECTION us.my_connection \n",
    "    OPTIONS(uris=[\"gs://{BUCKET}/homeImage/*.jpg\"],\n",
    "         object_metadata=\"SIMPLE\");\n",
    "\"\"\"\n",
    "client.query(query)"
   ]
  },
  {
   "cell_type": "markdown",
   "id": "8311ee9a-c821-40b1-8473-387c8271f8ff",
   "metadata": {},
   "source": [
    "### Data from CSV metadata file that is converted to parquet in GCS Refined Zone"
   ]
  },
  {
   "cell_type": "markdown",
   "id": "7a0a834f-62ba-45ce-87d7-7c2011648439",
   "metadata": {},
   "source": [
    "We reuse the biglake table that we created in previous part. This table has multiple versions of data as they are pointing to the delta tables in GCS.\n",
    "We will use the created view on this table named ```delta_housing_view``` created on top of ```delta_housing_parquet``` table."
   ]
  },
  {
   "cell_type": "markdown",
   "id": "84eedf08-d07c-4fd1-a22b-8884b53732b3",
   "metadata": {},
   "source": [
    "## 2. Create ML models in BQ from the pretraned model binaries"
   ]
  },
  {
   "cell_type": "markdown",
   "id": "ff9ceb20-6e1f-4ec3-85b5-6ea37a65a91a",
   "metadata": {},
   "source": [
    "### BQML model from the image embedding model"
   ]
  },
  {
   "cell_type": "code",
   "execution_count": 4,
   "id": "ecfea6f6-1e3c-4186-9451-f5b0dc377821",
   "metadata": {},
   "outputs": [
    {
     "data": {
      "text/plain": [
       "QueryJob<project=safshari-sandbox, location=US, id=49df0e47-db89-4fd3-86c6-896082f934bd>"
      ]
     },
     "execution_count": 4,
     "metadata": {},
     "output_type": "execute_result"
    }
   ],
   "source": [
    "query = f\"\"\"\n",
    "    CREATE OR REPLACE MODEL {BQ_DATASET}.imported_image_model\n",
    "    OPTIONS (MODEL_TYPE='TENSORFLOW',\n",
    "    MODEL_PATH='gs://{BUCKET}/model/image/*')\n",
    "\"\"\"\n",
    "client.query(query)"
   ]
  },
  {
   "cell_type": "markdown",
   "id": "61cb99f4-8cb5-4c98-be18-e05ae55aa1c6",
   "metadata": {},
   "source": [
    "### BQML model from the text embedding model"
   ]
  },
  {
   "cell_type": "code",
   "execution_count": 5,
   "id": "04fbcb9b-81f9-49c0-8a1f-2da36c0384e1",
   "metadata": {},
   "outputs": [
    {
     "data": {
      "text/plain": [
       "QueryJob<project=safshari-sandbox, location=US, id=81575fb3-682a-4ee1-a14e-1454423c76eb>"
      ]
     },
     "execution_count": 5,
     "metadata": {},
     "output_type": "execute_result"
    }
   ],
   "source": [
    "query = f\"\"\"\n",
    "    CREATE OR REPLACE MODEL {BQ_DATASET}.imported_text_model\n",
    "    OPTIONS (MODEL_TYPE='TENSORFLOW',\n",
    "    MODEL_PATH='gs://{BUCKET}/model/text-universal/*')\n",
    "\"\"\"\n",
    "client.query(query)"
   ]
  },
  {
   "cell_type": "markdown",
   "id": "d56d99e7-dfba-435e-9e09-ef7f3f7c6c5d",
   "metadata": {},
   "source": [
    "## 3. Run model prediction"
   ]
  },
  {
   "cell_type": "markdown",
   "id": "3b893756-34db-41e9-a113-1db64787081a",
   "metadata": {},
   "source": [
    "### Get embedding for image data"
   ]
  },
  {
   "cell_type": "code",
   "execution_count": 6,
   "id": "12366b15-a1c0-4a15-8351-da2c38839d9a",
   "metadata": {},
   "outputs": [
    {
     "data": {
      "text/plain": [
       "QueryJob<project=safshari-sandbox, location=US, id=8d601077-e0d6-402f-b183-c7b32f59f807>"
      ]
     },
     "execution_count": 6,
     "metadata": {},
     "output_type": "execute_result"
    }
   ],
   "source": [
    "query = f\"\"\"\n",
    "CREATE TABLE {BQ_DATASET}.image_embedding\n",
    "AS \n",
    "    SELECT uri, fc1 as image_embedding  FROM ML.PREDICT(\n",
    "    MODEL `{BQ_DATASET}.imported_image_model`, \n",
    "    (SELECT uri, ML.DECODE_IMAGE(data) AS input_2 FROM {BQ_DATASET}.housing_image\n",
    "    where REGEXP_CONTAINS(uri,'gs://{BUCKET}/homeImage/11*'))\n",
    ");\n",
    "\"\"\"\n",
    "client.query(query)"
   ]
  },
  {
   "cell_type": "markdown",
   "id": "592d48c0-d5b9-4a50-97a3-3aa356e9d5d2",
   "metadata": {},
   "source": [
    "### Get embedding for text data"
   ]
  },
  {
   "cell_type": "code",
   "execution_count": 7,
   "id": "8092e1bc-0eb6-4e81-a60a-7ccec679b5ad",
   "metadata": {},
   "outputs": [
    {
     "data": {
      "text/plain": [
       "QueryJob<project=safshari-sandbox, location=US, id=2ebbbcb4-c04f-4a15-bb2b-a5bb25e8164d>"
      ]
     },
     "execution_count": 7,
     "metadata": {},
     "output_type": "execute_result"
    }
   ],
   "source": [
    "query = f\"\"\"\n",
    "    CREATE TABLE {BQ_DATASET}.text_embedding\n",
    "    AS \n",
    "    SELECT uri, outputs as text_embedding  FROM ML.PREDICT(\n",
    "    MODEL `{BQ_DATASET}.imported_text_model`, \n",
    "    (SELECT homeImage as uri , description as inputs FROM `{BQ_DATASET}.delta_housing_view` \n",
    "    join `{BQ_DATASET}.image_embedding` as t\n",
    "    on homeImage = SPLIT(t.uri, '/')[OFFSET(ARRAY_LENGTH(SPLIT(t.uri, \"/\")) - 1)]\n",
    "    \"\"\"\n",
    "client.query(query)"
   ]
  },
  {
   "cell_type": "markdown",
   "id": "38410170-39c2-4c60-940c-cba9faf760cf",
   "metadata": {},
   "source": [
    "## 4. Join and fetch the image and text embedding with housing prices as ground truth label"
   ]
  },
  {
   "cell_type": "code",
   "execution_count": 11,
   "id": "39d1fa94-e0af-4393-81f7-cf5ed0863a16",
   "metadata": {},
   "outputs": [],
   "source": [
    "query = f\"\"\"\n",
    "        SELECT md.yearBuilt, md.latestPrice, img.uri, img.image_embedding, txt.text_embedding\n",
    "        FROM `{BQ_DATASET}.delta_housing_view` as md\n",
    "        JOIN `{BQ_DATASET}.image_embedding` as img\n",
    "        ON md.homeImage = SPLIT(img.uri, '/')[OFFSET(ARRAY_LENGTH(SPLIT(img.uri, \"/\")) - 1)]\n",
    "        JOIN `{BQ_DATASET}.text_embedding` as txt\n",
    "        ON SPLIT(img.uri, '/')[OFFSET(ARRAY_LENGTH(SPLIT(img.uri, \"/\")) - 1)] = txt.uri\n",
    "        \"\"\"\n",
    "df = client.query(query).result().to_dataframe()"
   ]
  },
  {
   "cell_type": "code",
   "execution_count": 12,
   "id": "fe50cc7a-0a91-4895-9592-884eff14bf3a",
   "metadata": {},
   "outputs": [
    {
     "data": {
      "text/html": [
       "<div>\n",
       "<style scoped>\n",
       "    .dataframe tbody tr th:only-of-type {\n",
       "        vertical-align: middle;\n",
       "    }\n",
       "\n",
       "    .dataframe tbody tr th {\n",
       "        vertical-align: top;\n",
       "    }\n",
       "\n",
       "    .dataframe thead th {\n",
       "        text-align: right;\n",
       "    }\n",
       "</style>\n",
       "<table border=\"1\" class=\"dataframe\">\n",
       "  <thead>\n",
       "    <tr style=\"text-align: right;\">\n",
       "      <th></th>\n",
       "      <th>yearBuilt</th>\n",
       "      <th>latestPrice</th>\n",
       "      <th>uri</th>\n",
       "      <th>image_embedding</th>\n",
       "      <th>text_embedding</th>\n",
       "    </tr>\n",
       "  </thead>\n",
       "  <tbody>\n",
       "    <tr>\n",
       "      <th>0</th>\n",
       "      <td>1985</td>\n",
       "      <td>269900.0</td>\n",
       "      <td>gs://techcon23-safshari/homeImage/185165346_eb...</td>\n",
       "      <td>[0.0, 0.7384738922119141, 0.0, 0.0, 0.0, 2.010...</td>\n",
       "      <td>[-0.05178000032901764, -0.035562582314014435, ...</td>\n",
       "    </tr>\n",
       "    <tr>\n",
       "      <th>1</th>\n",
       "      <td>1981</td>\n",
       "      <td>339900.0</td>\n",
       "      <td>gs://techcon23-safshari/homeImage/145655084_48...</td>\n",
       "      <td>[0.0, 0.9409899711608887, 0.0, 0.0, 0.0, 1.667...</td>\n",
       "      <td>[-0.06605076789855957, -0.01758900284767151, -...</td>\n",
       "    </tr>\n",
       "    <tr>\n",
       "      <th>2</th>\n",
       "      <td>2001</td>\n",
       "      <td>290000.0</td>\n",
       "      <td>gs://techcon23-safshari/homeImage/185218123_6a...</td>\n",
       "      <td>[0.0, 1.2250003814697266, 0.0, 0.0, 0.0, 2.048...</td>\n",
       "      <td>[-0.020198747515678406, -0.04961514472961426, ...</td>\n",
       "    </tr>\n",
       "    <tr>\n",
       "      <th>3</th>\n",
       "      <td>1986</td>\n",
       "      <td>199950.0</td>\n",
       "      <td>gs://techcon23-safshari/homeImage/144334371_0f...</td>\n",
       "      <td>[0.0, 0.6215362548828125, 0.0, 0.0, 0.0, 1.940...</td>\n",
       "      <td>[-0.008488993160426617, -0.045883093029260635,...</td>\n",
       "    </tr>\n",
       "    <tr>\n",
       "      <th>4</th>\n",
       "      <td>2002</td>\n",
       "      <td>359965.0</td>\n",
       "      <td>gs://techcon23-safshari/homeImage/185218453_3e...</td>\n",
       "      <td>[0.0, 1.0795612335205078, 0.0, 0.0, 0.0, 1.752...</td>\n",
       "      <td>[0.018340934067964554, -0.04425225406885147, 0...</td>\n",
       "    </tr>\n",
       "    <tr>\n",
       "      <th>...</th>\n",
       "      <td>...</td>\n",
       "      <td>...</td>\n",
       "      <td>...</td>\n",
       "      <td>...</td>\n",
       "      <td>...</td>\n",
       "    </tr>\n",
       "    <tr>\n",
       "      <th>1054</th>\n",
       "      <td>2020</td>\n",
       "      <td>675000.0</td>\n",
       "      <td>gs://techcon23-safshari/homeImage/125805827_c0...</td>\n",
       "      <td>[0.0, 1.39948308467865, 0.0, 0.0, 0.0, 1.83178...</td>\n",
       "      <td>[-0.01679230108857155, -0.07212793081998825, 0...</td>\n",
       "    </tr>\n",
       "    <tr>\n",
       "      <th>1055</th>\n",
       "      <td>2020</td>\n",
       "      <td>1499000.0</td>\n",
       "      <td>gs://techcon23-safshari/homeImage/125807167_7f...</td>\n",
       "      <td>[0.0, 1.1083102226257324, 0.0, 0.0, 0.0, 1.680...</td>\n",
       "      <td>[-0.06935032457113266, 0.02305689826607704, 0....</td>\n",
       "    </tr>\n",
       "    <tr>\n",
       "      <th>1056</th>\n",
       "      <td>2020</td>\n",
       "      <td>645000.0</td>\n",
       "      <td>gs://techcon23-safshari/homeImage/125916067_43...</td>\n",
       "      <td>[0.0, 1.109668493270874, 0.0, 0.0, 0.0, 1.7355...</td>\n",
       "      <td>[-0.007569410838186741, -0.032274093478918076,...</td>\n",
       "    </tr>\n",
       "    <tr>\n",
       "      <th>1057</th>\n",
       "      <td>2020</td>\n",
       "      <td>580000.0</td>\n",
       "      <td>gs://techcon23-safshari/homeImage/144237736_91...</td>\n",
       "      <td>[0.0, 1.1190240383148193, 0.0, 0.0, 0.0, 2.160...</td>\n",
       "      <td>[-0.05300542712211609, -0.04676753282546997, -...</td>\n",
       "    </tr>\n",
       "    <tr>\n",
       "      <th>1058</th>\n",
       "      <td>2020</td>\n",
       "      <td>525000.0</td>\n",
       "      <td>gs://techcon23-safshari/homeImage/145655642_7a...</td>\n",
       "      <td>[0.0, 0.8801974654197693, 0.0, 0.0, 0.0, 2.068...</td>\n",
       "      <td>[-0.031203512102365494, -0.02345026470720768, ...</td>\n",
       "    </tr>\n",
       "  </tbody>\n",
       "</table>\n",
       "<p>1059 rows × 5 columns</p>\n",
       "</div>"
      ],
      "text/plain": [
       "     yearBuilt latestPrice                                                uri  \\\n",
       "0         1985    269900.0  gs://techcon23-safshari/homeImage/185165346_eb...   \n",
       "1         1981    339900.0  gs://techcon23-safshari/homeImage/145655084_48...   \n",
       "2         2001    290000.0  gs://techcon23-safshari/homeImage/185218123_6a...   \n",
       "3         1986    199950.0  gs://techcon23-safshari/homeImage/144334371_0f...   \n",
       "4         2002    359965.0  gs://techcon23-safshari/homeImage/185218453_3e...   \n",
       "...        ...         ...                                                ...   \n",
       "1054      2020    675000.0  gs://techcon23-safshari/homeImage/125805827_c0...   \n",
       "1055      2020   1499000.0  gs://techcon23-safshari/homeImage/125807167_7f...   \n",
       "1056      2020    645000.0  gs://techcon23-safshari/homeImage/125916067_43...   \n",
       "1057      2020    580000.0  gs://techcon23-safshari/homeImage/144237736_91...   \n",
       "1058      2020    525000.0  gs://techcon23-safshari/homeImage/145655642_7a...   \n",
       "\n",
       "                                        image_embedding  \\\n",
       "0     [0.0, 0.7384738922119141, 0.0, 0.0, 0.0, 2.010...   \n",
       "1     [0.0, 0.9409899711608887, 0.0, 0.0, 0.0, 1.667...   \n",
       "2     [0.0, 1.2250003814697266, 0.0, 0.0, 0.0, 2.048...   \n",
       "3     [0.0, 0.6215362548828125, 0.0, 0.0, 0.0, 1.940...   \n",
       "4     [0.0, 1.0795612335205078, 0.0, 0.0, 0.0, 1.752...   \n",
       "...                                                 ...   \n",
       "1054  [0.0, 1.39948308467865, 0.0, 0.0, 0.0, 1.83178...   \n",
       "1055  [0.0, 1.1083102226257324, 0.0, 0.0, 0.0, 1.680...   \n",
       "1056  [0.0, 1.109668493270874, 0.0, 0.0, 0.0, 1.7355...   \n",
       "1057  [0.0, 1.1190240383148193, 0.0, 0.0, 0.0, 2.160...   \n",
       "1058  [0.0, 0.8801974654197693, 0.0, 0.0, 0.0, 2.068...   \n",
       "\n",
       "                                         text_embedding  \n",
       "0     [-0.05178000032901764, -0.035562582314014435, ...  \n",
       "1     [-0.06605076789855957, -0.01758900284767151, -...  \n",
       "2     [-0.020198747515678406, -0.04961514472961426, ...  \n",
       "3     [-0.008488993160426617, -0.045883093029260635,...  \n",
       "4     [0.018340934067964554, -0.04425225406885147, 0...  \n",
       "...                                                 ...  \n",
       "1054  [-0.01679230108857155, -0.07212793081998825, 0...  \n",
       "1055  [-0.06935032457113266, 0.02305689826607704, 0....  \n",
       "1056  [-0.007569410838186741, -0.032274093478918076,...  \n",
       "1057  [-0.05300542712211609, -0.04676753282546997, -...  \n",
       "1058  [-0.031203512102365494, -0.02345026470720768, ...  \n",
       "\n",
       "[1059 rows x 5 columns]"
      ]
     },
     "execution_count": 12,
     "metadata": {},
     "output_type": "execute_result"
    }
   ],
   "source": [
    "df"
   ]
  },
  {
   "cell_type": "code",
   "execution_count": null,
   "id": "57aa1641-4146-4056-8aae-b082b3d54a76",
   "metadata": {},
   "outputs": [],
   "source": [
    "df.loc[df['yearBuilt'] < \"1980\" ]"
   ]
  },
  {
   "cell_type": "markdown",
   "id": "b67644e3-51e7-4b81-bc98-3f90c9afd87a",
   "metadata": {},
   "source": [
    "## (Optional) Apply row-level access policies"
   ]
  },
  {
   "cell_type": "code",
   "execution_count": 10,
   "id": "b3eae24b-fa60-4f5d-ac6f-5cfc183d7ac3",
   "metadata": {},
   "outputs": [
    {
     "data": {
      "text/plain": [
       "QueryJob<project=safshari-sandbox, location=US, id=1b4bc595-13e0-4272-a72e-821eb4c1397a>"
      ]
     },
     "execution_count": 10,
     "metadata": {},
     "output_type": "execute_result"
    }
   ],
   "source": [
    "query = f\"\"\"\n",
    "    CREATE ROW ACCESS POLICY house\n",
    "    ON {BQ_DATASET}.delta_housing_parquet\n",
    "    GRANT TO (\"user:test@test.com\")\n",
    "    FILTER USING (yearBuilt > \"1980\");\n",
    "    \"\"\"\n",
    "client.query(query)"
   ]
  },
  {
   "cell_type": "code",
   "execution_count": null,
   "id": "ad70467d-34fd-4ba8-b3a7-bca9aa8b2aaf",
   "metadata": {},
   "outputs": [],
   "source": [
    "#query = f\"\"\" DROP ALL ROW ACCESS POLICIES  ON {BQ_DATASET}.delta_housing_parquet\"\"\"\n",
    "#client.query(query)"
   ]
  },
  {
   "cell_type": "markdown",
   "id": "3ea0d14c-9494-42cf-965d-3da3558b7918",
   "metadata": {},
   "source": [
    "## 5. Create a price prediction deep neural network"
   ]
  },
  {
   "cell_type": "code",
   "execution_count": 13,
   "id": "94122abd-1537-4384-a29b-459489370f4a",
   "metadata": {},
   "outputs": [
    {
     "name": "stdout",
     "output_type": "stream",
     "text": [
      "Num GPUs Available:  1\n"
     ]
    },
    {
     "name": "stderr",
     "output_type": "stream",
     "text": [
      "2023-04-19 06:07:50.599565: I tensorflow/stream_executor/cuda/cuda_gpu_executor.cc:936] successful NUMA node read from SysFS had negative value (-1), but there must be at least one NUMA node, so returning NUMA node zero\n",
      "2023-04-19 06:07:50.612836: I tensorflow/stream_executor/cuda/cuda_gpu_executor.cc:936] successful NUMA node read from SysFS had negative value (-1), but there must be at least one NUMA node, so returning NUMA node zero\n",
      "2023-04-19 06:07:50.614538: I tensorflow/stream_executor/cuda/cuda_gpu_executor.cc:936] successful NUMA node read from SysFS had negative value (-1), but there must be at least one NUMA node, so returning NUMA node zero\n"
     ]
    }
   ],
   "source": [
    "import tensorflow as tf\n",
    "import pandas as pd\n",
    "print(\"Num GPUs Available: \", len(tf.config.list_physical_devices('GPU')))"
   ]
  },
  {
   "cell_type": "markdown",
   "id": "3c59cec6-753f-4894-9f37-231ffad40845",
   "metadata": {},
   "source": [
    "### b. Split data to train & test data "
   ]
  },
  {
   "cell_type": "code",
   "execution_count": 14,
   "id": "75645f8d-4f93-435c-9c78-1838d083ba1c",
   "metadata": {},
   "outputs": [],
   "source": [
    "train_df = pd.DataFrame(columns=['text_embedding', 'image_embedding'])\n",
    "test_df = pd.DataFrame(columns=['text_embedding', 'image_embedding'])\n",
    "train_label = pd.DataFrame(columns=['latestPrice'])\n",
    "test_label = pd.DataFrame(columns=['latestPrice'])"
   ]
  },
  {
   "cell_type": "code",
   "execution_count": 15,
   "id": "f8119842-dd54-4dcf-be22-dc22b1494efd",
   "metadata": {},
   "outputs": [],
   "source": [
    "train_df[['text_embedding', 'image_embedding']] = df[['text_embedding', 'image_embedding']][:1000]#df_new['embedding'][:1000]\n",
    "test_df[['text_embedding', 'image_embedding']] = df[['text_embedding', 'image_embedding']][1000:]#df_new['embedding'][1000:]\n",
    "train_label['latestPrice'] = df['latestPrice'][:1000].astype(float)\n",
    "test_label['latestPrice'] = df['latestPrice'][1000:].astype(float)"
   ]
  },
  {
   "cell_type": "code",
   "execution_count": 16,
   "id": "117d4432-9fd2-46a1-90fc-94b21ec57bad",
   "metadata": {},
   "outputs": [
    {
     "data": {
      "text/html": [
       "<div>\n",
       "<style scoped>\n",
       "    .dataframe tbody tr th:only-of-type {\n",
       "        vertical-align: middle;\n",
       "    }\n",
       "\n",
       "    .dataframe tbody tr th {\n",
       "        vertical-align: top;\n",
       "    }\n",
       "\n",
       "    .dataframe thead th {\n",
       "        text-align: right;\n",
       "    }\n",
       "</style>\n",
       "<table border=\"1\" class=\"dataframe\">\n",
       "  <thead>\n",
       "    <tr style=\"text-align: right;\">\n",
       "      <th></th>\n",
       "      <th>latestPrice</th>\n",
       "    </tr>\n",
       "  </thead>\n",
       "  <tbody>\n",
       "    <tr>\n",
       "      <th>0</th>\n",
       "      <td>269900.0</td>\n",
       "    </tr>\n",
       "    <tr>\n",
       "      <th>1</th>\n",
       "      <td>339900.0</td>\n",
       "    </tr>\n",
       "    <tr>\n",
       "      <th>2</th>\n",
       "      <td>290000.0</td>\n",
       "    </tr>\n",
       "    <tr>\n",
       "      <th>3</th>\n",
       "      <td>199950.0</td>\n",
       "    </tr>\n",
       "    <tr>\n",
       "      <th>4</th>\n",
       "      <td>359965.0</td>\n",
       "    </tr>\n",
       "    <tr>\n",
       "      <th>...</th>\n",
       "      <td>...</td>\n",
       "    </tr>\n",
       "    <tr>\n",
       "      <th>995</th>\n",
       "      <td>1200000.0</td>\n",
       "    </tr>\n",
       "    <tr>\n",
       "      <th>996</th>\n",
       "      <td>565000.0</td>\n",
       "    </tr>\n",
       "    <tr>\n",
       "      <th>997</th>\n",
       "      <td>285000.0</td>\n",
       "    </tr>\n",
       "    <tr>\n",
       "      <th>998</th>\n",
       "      <td>525000.0</td>\n",
       "    </tr>\n",
       "    <tr>\n",
       "      <th>999</th>\n",
       "      <td>575000.0</td>\n",
       "    </tr>\n",
       "  </tbody>\n",
       "</table>\n",
       "<p>1000 rows × 1 columns</p>\n",
       "</div>"
      ],
      "text/plain": [
       "     latestPrice\n",
       "0       269900.0\n",
       "1       339900.0\n",
       "2       290000.0\n",
       "3       199950.0\n",
       "4       359965.0\n",
       "..           ...\n",
       "995    1200000.0\n",
       "996     565000.0\n",
       "997     285000.0\n",
       "998     525000.0\n",
       "999     575000.0\n",
       "\n",
       "[1000 rows x 1 columns]"
      ]
     },
     "execution_count": 16,
     "metadata": {},
     "output_type": "execute_result"
    }
   ],
   "source": [
    "train_label"
   ]
  },
  {
   "cell_type": "markdown",
   "id": "a07ca769-789c-4fd6-a978-5987c5b809fe",
   "metadata": {},
   "source": [
    "### c. Noramlize the target label (price) "
   ]
  },
  {
   "cell_type": "code",
   "execution_count": 17,
   "id": "4c099bb4-f947-418d-bb68-e58169dc0c36",
   "metadata": {},
   "outputs": [],
   "source": [
    "tr_min = np.min(train_label['latestPrice'])\n",
    "tr_max = np.max(train_label['latestPrice'])\n",
    "train_label['latestPrice_normalized']= (train_label['latestPrice'] - tr_min)/(tr_max - tr_min)"
   ]
  },
  {
   "cell_type": "code",
   "execution_count": 18,
   "id": "0d4f9e00-deb7-4244-98e7-e84c92ddb31e",
   "metadata": {},
   "outputs": [
    {
     "data": {
      "text/plain": [
       "0      0.015251\n",
       "1      0.020461\n",
       "2      0.016747\n",
       "3      0.010045\n",
       "4      0.021955\n",
       "         ...   \n",
       "995    0.084481\n",
       "996    0.037216\n",
       "997    0.016375\n",
       "998    0.034239\n",
       "999    0.037961\n",
       "Name: latestPrice_normalized, Length: 1000, dtype: float64"
      ]
     },
     "execution_count": 18,
     "metadata": {},
     "output_type": "execute_result"
    }
   ],
   "source": [
    "train_label['latestPrice_normalized']"
   ]
  },
  {
   "cell_type": "markdown",
   "id": "47d6a7f1-0fd5-4964-b8b8-94f6d64a04aa",
   "metadata": {},
   "source": [
    "### d. Create a simple fully connected Keras network"
   ]
  },
  {
   "cell_type": "code",
   "execution_count": 19,
   "id": "beae63ca-8ba3-4153-a72e-ad7e8617bfbb",
   "metadata": {},
   "outputs": [],
   "source": [
    "import keras\n",
    "from keras.layers import Input, Dense, Embedding\n",
    "from keras.layers import Dropout\n",
    "from keras.models import Model\n",
    "from keras import  optimizers, layers\n",
    "from keras.preprocessing import text, sequence\n"
   ]
  },
  {
   "cell_type": "code",
   "execution_count": 20,
   "id": "360333e1-722c-42a8-8d99-f2d49292745e",
   "metadata": {},
   "outputs": [],
   "source": [
    "train_set_1 = train_df.text_embedding.apply(pd.Series)\n",
    "train_set_2 = train_df.image_embedding.apply(pd.Series)\n",
    "test_set_1 = test_df.text_embedding.apply(pd.Series)\n",
    "test_set_2 = test_df.image_embedding.apply(pd.Series)"
   ]
  },
  {
   "cell_type": "code",
   "execution_count": 21,
   "id": "056d059f-9db8-4f91-a9de-d15b81226de3",
   "metadata": {},
   "outputs": [],
   "source": [
    "# Concatenate continuous and embeddings inputs\n",
    "input_1 = Input(shape=(train_set_1.shape[1], ))\n",
    "input_2 = Input(shape=(train_set_2.shape[1], ))\n",
    "all_input = keras.layers.concatenate([input_1, input_2])"
   ]
  },
  {
   "cell_type": "code",
   "execution_count": 22,
   "id": "b84661ef-5be7-4876-a339-db20fe790d8c",
   "metadata": {},
   "outputs": [
    {
     "name": "stderr",
     "output_type": "stream",
     "text": [
      "2023-04-19 06:09:00.371050: I tensorflow/core/platform/cpu_feature_guard.cc:151] This TensorFlow binary is optimized with oneAPI Deep Neural Network Library (oneDNN) to use the following CPU instructions in performance-critical operations:  AVX2 FMA\n",
      "To enable them in other operations, rebuild TensorFlow with the appropriate compiler flags.\n",
      "2023-04-19 06:09:00.371561: I tensorflow/stream_executor/cuda/cuda_gpu_executor.cc:936] successful NUMA node read from SysFS had negative value (-1), but there must be at least one NUMA node, so returning NUMA node zero\n",
      "2023-04-19 06:09:00.375173: I tensorflow/stream_executor/cuda/cuda_gpu_executor.cc:936] successful NUMA node read from SysFS had negative value (-1), but there must be at least one NUMA node, so returning NUMA node zero\n",
      "2023-04-19 06:09:00.377700: I tensorflow/stream_executor/cuda/cuda_gpu_executor.cc:936] successful NUMA node read from SysFS had negative value (-1), but there must be at least one NUMA node, so returning NUMA node zero\n",
      "2023-04-19 06:09:01.037248: I tensorflow/stream_executor/cuda/cuda_gpu_executor.cc:936] successful NUMA node read from SysFS had negative value (-1), but there must be at least one NUMA node, so returning NUMA node zero\n",
      "2023-04-19 06:09:01.039229: I tensorflow/stream_executor/cuda/cuda_gpu_executor.cc:936] successful NUMA node read from SysFS had negative value (-1), but there must be at least one NUMA node, so returning NUMA node zero\n",
      "2023-04-19 06:09:01.040952: I tensorflow/stream_executor/cuda/cuda_gpu_executor.cc:936] successful NUMA node read from SysFS had negative value (-1), but there must be at least one NUMA node, so returning NUMA node zero\n",
      "2023-04-19 06:09:01.042622: I tensorflow/core/common_runtime/gpu/gpu_device.cc:1525] Created device /job:localhost/replica:0/task:0/device:GPU:0 with 13598 MB memory:  -> device: 0, name: Tesla T4, pci bus id: 0000:00:04.0, compute capability: 7.5\n"
     ]
    }
   ],
   "source": [
    "x = Embedding(5000, 500)(all_input)\n",
    "x = Dropout(0.5)(x)\n",
    "x = Dense(50, activation='relu')(x)\n",
    "x = Dropout(0.1)(x)\n",
    "x = Dense(25, activation='relu')(x)\n",
    "# There are 41 different possible classes, so we use 41 neurons in our output layer\n",
    "x = Dense(1, activation='relu')(x)\n",
    "\n",
    "model = Model(inputs=[input_1, input_2], outputs=x)"
   ]
  },
  {
   "cell_type": "markdown",
   "id": "9604f649-9aa8-4307-81bd-8564b5905d05",
   "metadata": {},
   "source": [
    "### e. Train the model "
   ]
  },
  {
   "cell_type": "code",
   "execution_count": 23,
   "id": "1c953298-10e7-477c-b711-8ae23bd233f2",
   "metadata": {},
   "outputs": [],
   "source": [
    "optimizer =  tf.keras.optimizers.Adam(0.001)\n",
    "optimizer.learning_rate.assign(0.0001)\n",
    "model.compile(loss='mean_squared_error', optimizer=optimizer)"
   ]
  },
  {
   "cell_type": "code",
   "execution_count": 24,
   "id": "dd2b7020-cf9d-47bf-9e14-58fd3915a0ba",
   "metadata": {},
   "outputs": [
    {
     "name": "stdout",
     "output_type": "stream",
     "text": [
      "Epoch 1/5\n",
      "7/7 [==============================] - 2s 158ms/step - loss: 0.0013 - val_loss: 0.0040\n",
      "Epoch 2/5\n",
      "7/7 [==============================] - 1s 130ms/step - loss: 0.0012 - val_loss: 0.0036\n",
      "Epoch 3/5\n",
      "7/7 [==============================] - 1s 130ms/step - loss: 0.0011 - val_loss: 0.0037\n",
      "Epoch 4/5\n",
      "7/7 [==============================] - 1s 129ms/step - loss: 0.0010 - val_loss: 0.0038\n",
      "Epoch 5/5\n",
      "7/7 [==============================] - 1s 130ms/step - loss: 9.8999e-04 - val_loss: 0.0037\n"
     ]
    },
    {
     "data": {
      "text/plain": [
       "<keras.callbacks.History at 0x7f19c4d43790>"
      ]
     },
     "execution_count": 24,
     "metadata": {},
     "output_type": "execute_result"
    }
   ],
   "source": [
    "model.fit([train_set_1, train_set_2], train_label['latestPrice_normalized'].to_numpy(), epochs=5, batch_size=100, validation_split=0.3, verbose=1)"
   ]
  },
  {
   "cell_type": "markdown",
   "id": "9106f72a-691f-4658-a74d-835f60aab31d",
   "metadata": {},
   "source": [
    "### f. Predict the price for test data"
   ]
  },
  {
   "cell_type": "code",
   "execution_count": 25,
   "id": "a3527bac-29d5-4720-a165-bb0445146eb7",
   "metadata": {},
   "outputs": [],
   "source": [
    "y = model.predict([test_set_1, test_set_2])"
   ]
  },
  {
   "cell_type": "code",
   "execution_count": 26,
   "id": "803196f2-52b7-4bff-a57e-bd13407f83ee",
   "metadata": {},
   "outputs": [],
   "source": [
    "y = y * (tr_max- tr_min) + tr_min\n",
    "y"
   ]
  }
 ],
 "metadata": {
  "environment": {
   "kernel": "python3",
   "name": "tf2-gpu.2-8.m107",
   "type": "gcloud",
   "uri": "gcr.io/deeplearning-platform-release/tf2-gpu.2-8:m107"
  },
  "kernelspec": {
   "display_name": "Python 3 (ipykernel)",
   "language": "python",
   "name": "python3"
  },
  "language_info": {
   "codemirror_mode": {
    "name": "ipython",
    "version": 3
   },
   "file_extension": ".py",
   "mimetype": "text/x-python",
   "name": "python",
   "nbconvert_exporter": "python",
   "pygments_lexer": "ipython3",
   "version": "3.7.12"
  }
 },
 "nbformat": 4,
 "nbformat_minor": 5
}
